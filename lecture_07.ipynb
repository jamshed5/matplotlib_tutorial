{
 "cells": [
  {
   "cell_type": "code",
   "execution_count": 82,
   "id": "4765766b-2a65-4c36-9793-3cc73085a264",
   "metadata": {},
   "outputs": [],
   "source": [
    "# scatter"
   ]
  },
  {
   "cell_type": "code",
   "execution_count": 83,
   "id": "beff95d1-fd42-403e-a7aa-425f61142732",
   "metadata": {},
   "outputs": [],
   "source": [
    "from matplotlib import pyplot as plt\n",
    "import pandas as pd"
   ]
  },
  {
   "cell_type": "code",
   "execution_count": 84,
   "id": "11352a8d-b50c-4d7d-836d-051b8fbf1b07",
   "metadata": {},
   "outputs": [
    {
     "data": {
      "text/html": [
       "<div>\n",
       "<style scoped>\n",
       "    .dataframe tbody tr th:only-of-type {\n",
       "        vertical-align: middle;\n",
       "    }\n",
       "\n",
       "    .dataframe tbody tr th {\n",
       "        vertical-align: top;\n",
       "    }\n",
       "\n",
       "    .dataframe thead th {\n",
       "        text-align: right;\n",
       "    }\n",
       "</style>\n",
       "<table border=\"1\" class=\"dataframe\">\n",
       "  <thead>\n",
       "    <tr style=\"text-align: right;\">\n",
       "      <th></th>\n",
       "      <th>x</th>\n",
       "      <th>y</th>\n",
       "    </tr>\n",
       "  </thead>\n",
       "  <tbody>\n",
       "    <tr>\n",
       "      <th>0</th>\n",
       "      <td>5</td>\n",
       "      <td>1</td>\n",
       "    </tr>\n",
       "    <tr>\n",
       "      <th>1</th>\n",
       "      <td>20</td>\n",
       "      <td>15</td>\n",
       "    </tr>\n",
       "    <tr>\n",
       "      <th>2</th>\n",
       "      <td>21</td>\n",
       "      <td>15</td>\n",
       "    </tr>\n",
       "    <tr>\n",
       "      <th>3</th>\n",
       "      <td>24</td>\n",
       "      <td>20</td>\n",
       "    </tr>\n",
       "    <tr>\n",
       "      <th>4</th>\n",
       "      <td>28</td>\n",
       "      <td>24</td>\n",
       "    </tr>\n",
       "  </tbody>\n",
       "</table>\n",
       "</div>"
      ],
      "text/plain": [
       "    x   y\n",
       "0   5   1\n",
       "1  20  15\n",
       "2  21  15\n",
       "3  24  20\n",
       "4  28  24"
      ]
     },
     "execution_count": 84,
     "metadata": {},
     "output_type": "execute_result"
    }
   ],
   "source": [
    "# data frame\n",
    "data = {'x': [5,20, 21, 24, 28, 30,30,30,30,30,20,20,10,15,20,21,50],\n",
    "        'y': [1,15, 15, 20, 24, 25,26,25,22,24,20,12,8,7,15,15,30]}\n",
    "  \n",
    "# Create DataFrame\n",
    "df = pd.DataFrame(data)\n",
    "df.head(5)"
   ]
  },
  {
   "cell_type": "code",
   "execution_count": 85,
   "id": "71cf8fc8-90d2-4033-a4f3-d97e89b5e23a",
   "metadata": {},
   "outputs": [
    {
     "data": {
      "image/png": "[encoded data removed]",
      "text/plain": [
       "<Figure size 432x288 with 1 Axes>"
      ]
     },
     "metadata": {},
     "output_type": "display_data"
    }
   ],
   "source": [
    "# applying style (beauty)\n",
    "plt.style.use('ggplot')\n",
    "\n",
    "# colors b/w 1 to 10\n",
    "colors=[5,2, 3, 4, 4, 4,4,5,6,7,8,9,8,7,8,8,7]\n",
    "sizes=[400,200, 150, 250, 50, 30,200,100,150,250,200,180,165,154,187,177,144]\n",
    "\n",
    "\n",
    "x=df.x\n",
    "y=df.y\n",
    "\n",
    "\n",
    "# s=100 for circle size\n",
    "# s=sizes passing list\n",
    "# c='green' for color\n",
    "# marker='x' for shape style\n",
    "# edgecolor='black' for boarder\n",
    "# linewidth boarder width\n",
    "# c=colors assigning number 1 to 10 for colors -- map='Greens' just green shade -- alpha=0.75 opacity\n",
    "# plt.scatter(x,y, s=sizes, c=colors, cmap='Greens',edgecolor='black', linewidth=1, alpha=0.75)\n",
    "plt.scatter(x,y,\n",
    "            edgecolor='black',\n",
    "            color='green',\n",
    "            s=200,\n",
    "            linewidth=2, alpha=0.75)\n",
    "\n",
    "# cbar =plt.colorbar()\n",
    "# cbar.set_label('Satisfaction')\n",
    "\n",
    "plt.xlabel('x')\n",
    "plt.ylabel('y')\n",
    "plt.title('scatter plot')\n",
    "\n",
    "# plt.axvline(median, color='blue', label='age median', linewidth=2)\n",
    "# plt.legend()\n",
    "\n",
    "#show grid\n",
    "plt.grid(True)\n",
    "\n",
    "plt.show()"
   ]
  },
  {
   "cell_type": "code",
   "execution_count": 86,
   "id": "2021b1af-2450-4377-b239-9d4b6c865564",
   "metadata": {},
   "outputs": [],
   "source": [
    "# another study"
   ]
  },
  {
   "cell_type": "code",
   "execution_count": 87,
   "id": "e92df70e-4de3-4650-926b-b10debbbf164",
   "metadata": {},
   "outputs": [
    {
     "data": {
      "text/plain": [
       "<matplotlib.legend.Legend at 0x23690590d30>"
      ]
     },
     "execution_count": 87,
     "metadata": {},
     "output_type": "execute_result"
    },
    {
     "data": {
      "image/png": "[encoded data removed]",
      "text/plain": [
       "<Figure size 432x288 with 1 Axes>"
      ]
     },
     "metadata": {},
     "output_type": "display_data"
    }
   ],
   "source": [
    "x1=[1,2,3,4,5,6,7,8,9,10]\n",
    "y1=[2,2,2,2,2,2,2,2,2,2]\n",
    "x2=[1,2,3,4,5,10,9,8,7,6]\n",
    "y2=[2,2.2,2.4,2.6,2.8,3,3,3,3,3]\n",
    "plt.scatter(x1,y1, color='g', label='green', alpha=0.70)\n",
    "plt.scatter(x2,y2, color='b', label='blue', alpha=0.70)\n",
    "\n",
    "\n",
    "plt.xlabel('x')\n",
    "plt.xlabel('y')\n",
    "plt.title('scatter plot')\n",
    "\n",
    "\n",
    "plt.legend()\n"
   ]
  },
  {
   "cell_type": "code",
   "execution_count": null,
   "id": "7ae16ee9-4087-4ec2-8265-904ac5559fe7",
   "metadata": {},
   "outputs": [],
   "source": []
  },
  {
   "cell_type": "code",
   "execution_count": null,
   "id": "d8c8521a-d753-470d-b644-97f2f29e35aa",
   "metadata": {},
   "outputs": [],
   "source": []
  }
 ],
 "metadata": {
  "kernelspec": {
   "display_name": "Python 3 (ipykernel)",
   "language": "python",
   "name": "python3"
  },
  "language_info": {
   "codemirror_mode": {
    "name": "ipython",
    "version": 3
   },
   "file_extension": ".py",
   "mimetype": "text/x-python",
   "name": "python",
   "nbconvert_exporter": "python",
   "pygments_lexer": "ipython3",
   "version": "3.8.13"
  }
 },
 "nbformat": 4,
 "nbformat_minor": 5
}
