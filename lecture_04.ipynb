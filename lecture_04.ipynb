{
 "cells": [
  {
   "cell_type": "code",
   "execution_count": 19,
   "id": "5eb63d5a-b270-4db9-bf7a-d7892de69f71",
   "metadata": {},
   "outputs": [],
   "source": [
    "# stack plots"
   ]
  },
  {
   "cell_type": "code",
   "execution_count": 23,
   "id": "beff95d1-fd42-403e-a7aa-425f61142732",
   "metadata": {},
   "outputs": [],
   "source": [
    "from matplotlib import pyplot as plt\n",
    "import pandas as pd"
   ]
  },
  {
   "cell_type": "code",
   "execution_count": 24,
   "id": "11352a8d-b50c-4d7d-836d-051b8fbf1b07",
   "metadata": {},
   "outputs": [
    {
     "data": {
      "text/html": [
       "<div>\n",
       "<style scoped>\n",
       "    .dataframe tbody tr th:only-of-type {\n",
       "        vertical-align: middle;\n",
       "    }\n",
       "\n",
       "    .dataframe tbody tr th {\n",
       "        vertical-align: top;\n",
       "    }\n",
       "\n",
       "    .dataframe thead th {\n",
       "        text-align: right;\n",
       "    }\n",
       "</style>\n",
       "<table border=\"1\" class=\"dataframe\">\n",
       "  <thead>\n",
       "    <tr style=\"text-align: right;\">\n",
       "      <th></th>\n",
       "      <th>name</th>\n",
       "      <th>ages</th>\n",
       "      <th>salaries_2001_php</th>\n",
       "      <th>salaries_2002_php</th>\n",
       "      <th>salaries_2003_php</th>\n",
       "      <th>salaries_2004_php</th>\n",
       "    </tr>\n",
       "  </thead>\n",
       "  <tbody>\n",
       "    <tr>\n",
       "      <th>0</th>\n",
       "      <td>Tom</td>\n",
       "      <td>20</td>\n",
       "      <td>20000</td>\n",
       "      <td>20000</td>\n",
       "      <td>10000</td>\n",
       "      <td>1000</td>\n",
       "    </tr>\n",
       "    <tr>\n",
       "      <th>1</th>\n",
       "      <td>nick</td>\n",
       "      <td>21</td>\n",
       "      <td>22000</td>\n",
       "      <td>21000</td>\n",
       "      <td>15000</td>\n",
       "      <td>5000</td>\n",
       "    </tr>\n",
       "    <tr>\n",
       "      <th>2</th>\n",
       "      <td>krish</td>\n",
       "      <td>24</td>\n",
       "      <td>23500</td>\n",
       "      <td>23000</td>\n",
       "      <td>20000</td>\n",
       "      <td>10000</td>\n",
       "    </tr>\n",
       "    <tr>\n",
       "      <th>3</th>\n",
       "      <td>jack</td>\n",
       "      <td>28</td>\n",
       "      <td>30000</td>\n",
       "      <td>28000</td>\n",
       "      <td>24000</td>\n",
       "      <td>14000</td>\n",
       "    </tr>\n",
       "  </tbody>\n",
       "</table>\n",
       "</div>"
      ],
      "text/plain": [
       "    name  ages  salaries_2001_php  salaries_2002_php  salaries_2003_php  \\\n",
       "0    Tom    20              20000              20000              10000   \n",
       "1   nick    21              22000              21000              15000   \n",
       "2  krish    24              23500              23000              20000   \n",
       "3   jack    28              30000              28000              24000   \n",
       "\n",
       "   salaries_2004_php  \n",
       "0               1000  \n",
       "1               5000  \n",
       "2              10000  \n",
       "3              14000  "
      ]
     },
     "execution_count": 24,
     "metadata": {},
     "output_type": "execute_result"
    }
   ],
   "source": [
    "# data frame\n",
    "data = {'name': ['Tom', 'nick', 'krish', 'jack'],\n",
    "        'ages': [20, 21, 24, 28],\n",
    "        'salaries_2001_php': [20000, 22000, 23500, 30000],\n",
    "        'salaries_2002_php': [20000, 21000, 23000, 28000],\n",
    "        'salaries_2003_php': [10000, 15000, 20000, 24000],\n",
    "        'salaries_2004_php': [1000, 5000, 10000, 14000]}\n",
    "  \n",
    "# Create DataFrame\n",
    "df = pd.DataFrame(data)\n",
    "df"
   ]
  },
  {
   "cell_type": "code",
   "execution_count": 47,
   "id": "87441094-baa1-40f1-9fdf-542d986d15f3",
   "metadata": {},
   "outputs": [
    {
     "data": {
      "image/png": "[encoded data removed]",
      "text/plain": [
       "<Figure size 432x288 with 1 Axes>"
      ]
     },
     "metadata": {},
     "output_type": "display_data"
    }
   ],
   "source": [
    "# applying style (beauty)\n",
    "plt.style.use('ggplot')\n",
    "\n",
    "labels=['salaries_2001_php','salaries_2002_php','salaries_2003_php','salaries_2004_php']\n",
    "colors=['red','blue','green','orange']\n",
    "\n",
    "plt.stackplot(\n",
    "        df.name,\n",
    "        df.salaries_2001_php,\n",
    "        df.salaries_2002_php,\n",
    "        df.salaries_2003_php,\n",
    "        df.salaries_2004_php,\n",
    "        labels=labels,\n",
    "        colors=colors\n",
    "       )\n",
    "\n",
    "\n",
    "plt.title('salaries: 2001_php,2002_php,2003_php,2004_php')\n",
    "plt.tight_layout()\n",
    "plt.legend(loc='upper left')\n",
    "\n",
    "#show grid\n",
    "plt.grid(True)\n",
    "\n",
    "plt.show()"
   ]
  },
  {
   "cell_type": "code",
   "execution_count": null,
   "id": "7392a843-d5a0-4acc-9e16-3c2a2570573f",
   "metadata": {},
   "outputs": [],
   "source": []
  },
  {
   "cell_type": "code",
   "execution_count": null,
   "id": "76647476-b10e-4321-a21f-d4d740f5ef31",
   "metadata": {},
   "outputs": [],
   "source": []
  }
 ],
 "metadata": {
  "kernelspec": {
   "display_name": "Python 3 (ipykernel)",
   "language": "python",
   "name": "python3"
  },
  "language_info": {
   "codemirror_mode": {
    "name": "ipython",
    "version": 3
   },
   "file_extension": ".py",
   "mimetype": "text/x-python",
   "name": "python",
   "nbconvert_exporter": "python",
   "pygments_lexer": "ipython3",
   "version": "3.8.13"
  }
 },
 "nbformat": 4,
 "nbformat_minor": 5
}
